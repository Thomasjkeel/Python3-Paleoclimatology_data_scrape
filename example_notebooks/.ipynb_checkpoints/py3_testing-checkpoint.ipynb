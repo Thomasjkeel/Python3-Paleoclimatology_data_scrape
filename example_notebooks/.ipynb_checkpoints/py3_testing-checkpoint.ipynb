{
 "cells": [
  {
   "cell_type": "code",
   "execution_count": 1,
   "metadata": {
    "collapsed": true
   },
   "outputs": [],
   "source": [
    "import requests\n",
    "import pandas\n",
    "\n",
    "def get_bool(prompt):\n",
    "    while True:\n",
    "        try:\n",
    "            return {\"true\":True, \"t\": True, \"false\":False, \"f\":False, \"yes\":True, \"no\":False, \"y\":True, \"n\":False}[input(prompt).lower()]\n",
    "        except KeyError:\n",
    "            print(\"Invalid input, please enter True or False\")\n",
    "\n",
    "def get_year(prompt):\n",
    "    while True:\n",
    "        try:\n",
    "            return int(input(prompt))\n",
    "        except:\n",
    "            print(\"Please enter a year\")\n",
    "\n",
    "\n",
    "def get_all_paleodata(CE=False):\n",
    "    continent = str(input('1. enter continent: ')).lower()\n",
    "    ey = get_bool('2. set earliest year?: (True or False) ')\n",
    "    if ey:\n",
    "        earliest_year = get_year('2.5 enter earliest year needed: ')\n",
    "    else:\n",
    "        earliest_year = None\n",
    "    ly = get_bool('3. set latest year?: (True or False) ')\n",
    "    if ly:\n",
    "        latest_year = get_year('3.5 enter latest year needed: ')\n",
    "    \n",
    "    else:\n",
    "        latest_year = None\n",
    "    \n",
    "    if earliest_year:\n",
    "        assert int(earliest_year)\n",
    "    if latest_year:\n",
    "        assert int(latest_year)\n",
    "        if earliest_year:\n",
    "            assert int(latest_year) < int(earliest_year)\n",
    "\n",
    "    if CE == False:\n",
    "        if earliest_year != None:\n",
    "            eyear = \"earliestYear=%s&\" % earliest_year\n",
    "            if latest_year == None:\n",
    "                url = \"https://www.ncdc.noaa.gov/paleo-search/study/search.json?headersOnly=true&dataPublisher=NOAA&{0}timeMethod=overAny&locations=Continent%3E{1}\".format(eyear, continent)\n",
    "            elif latest_year != None:\n",
    "                lyear = \"latestYear=%s&\" % latest_year\n",
    "                url = \"https://www.ncdc.noaa.gov/paleo-search/study/search.json?headersOnly=true&dataPublisher=NOAA&{0}{1}timeMethod=overAny&locations=Continent%3E{2}\".format(eyear, lyear, continent)\n",
    "        elif earliest_year == None and latest_year != None:\n",
    "            lyear = \"latestYear=%s&\" % latest_year\n",
    "            url = \"https://www.ncdc.noaa.gov/paleo-search/study/search.json?headersOnly=true&dataPublisher=NOAA&{0}timeMethod=overAny&locations=Continent%3E{1}\".format(lyear, continent)\n",
    "        \n",
    "        else:\n",
    "            url = \"https://www.ncdc.noaa.gov/paleo-search/study/search.json?headersOnly=true&dataPublisher=NOAA&timeMethod=overAny&locations=Continent%3E{0}\".format(continent)\n",
    "\n",
    "    return url\n",
    "\n",
    "def make_request(token=None):\n",
    "    url = get_all_paleodata()\n",
    "    print('4. getting data, please wait')\n",
    "    r = requests.get(url)\n",
    "    response = r.json()\n",
    "    num_studies = len(response['study'])\n",
    "    print('\\n','total number of studies = %s'% num_studies, '\\n')\n",
    "    return response\n",
    "\n",
    "\n",
    "def list_studies():\n",
    "    response = make_request()\n",
    "    \n",
    "    apiList = response['study']\n",
    "    xmlid_list = []\n",
    "    for i in apiList:\n",
    "        xmlid_list.append(i['xmlId'])\n",
    "    xmlid_list = [x.encode('UTF8') for x in xmlid_list]\n",
    "    return xmlid_list\n",
    "\n",
    "\n",
    "\n",
    "# for different types of data:\n",
    "# dataType = {0:'zero', 1:'one', 2:'two'} &dataTypeId=1|2|4|12|6|7|8|20|9|10|19|14|11|13|15|16|60|59|17|18&\n",
    "\n",
    "\n",
    "def make_df():\n",
    "    xmlid_list = list_studies()\n",
    "    # if connection times out:\n",
    "    start_bool = get_bool('5. set start of index? (True or False) ')\n",
    "    if start_bool:\n",
    "        start = int(input('5.5 starting index (number): '))\n",
    "        assert xmlid_list[start], \"out of index\"\n",
    "    else:\n",
    "        start = 0\n",
    "\n",
    "    end_bool = get_bool('6. set end of index? (True or False) ')\n",
    "    if end_bool:\n",
    "        end = int(input('6.5 ending index (number): '))\n",
    "        assert xmlid_list[end], \"out of index\"\n",
    "        if start_bool:\n",
    "            assert end > start, \"end index before start index\"\n",
    "\n",
    "    else:\n",
    "        end = len(xmlid_list)-1\n",
    "    full_list = []\n",
    "    print_count = 0\n",
    "    length = len(list(range(start,end)))\n",
    "    \n",
    "    print('download starting...', '\\n')\n",
    "    for i in xmlid_list[start:end]:\n",
    "        url = \"https://www.ncdc.noaa.gov/paleo-search/study/search.json?xmlId={0}\".format(i)\n",
    "        \n",
    "        r = requests.get(url)\n",
    "        response = r.json()\n",
    "        apiList = response['study']\n",
    "        \n",
    "        d = {}\n",
    "        d['earliest_BP'] = apiList[0]['earliestYearBP']\n",
    "        d['dataType'] = apiList[0]['dataType']\n",
    "        d['most_recent_BP'] = apiList[0]['mostRecentYearBP']\n",
    "        d['date'] = apiList[0]['contributionDate']\n",
    "        d['maxElevation'] = apiList[0]['site'][0]['geo']['properties']['maxElevationMeters']\n",
    "#         if apiList[0]['site'][0]['geo']['properties']['maxElevationMeters'] == apiList[0]['site'][0]['geo']['properties']['minElevationMeters']:\n",
    "#             d['maxElevation'] = apiList[0]['site'][0]['geo']['properties']['maxElevationMeters']\n",
    "#         else:\n",
    "#             d['maxElevation'] = apiList[0]['site'][0]['geo']['properties']['maxElevationMeters']\n",
    "#             d['minElevation'] = apiList[0]['site'][0]['geo']['properties']['minElevationMeters']\n",
    "        list_coord = apiList[0]['site'][0]['geo']['geometry']['coordinates']\n",
    "        list_coord = [x.encode('UTF8') for x in list_coord]\n",
    "        d['xmlId'] = apiList[0]['xmlId']\n",
    "        d['study name'] = apiList[0]['studyName']\n",
    "        d['online_link'] = apiList[0]['onlineResourceLink']\n",
    "        \n",
    "        \n",
    "        counter = 0\n",
    "        x = []\n",
    "        y = []\n",
    "        for i in list_coord:\n",
    "            if counter % 2 == 0:\n",
    "                x_val = i\n",
    "            else:\n",
    "                y_val = i\n",
    "            \n",
    "            counter += 1\n",
    "            if counter > 2:\n",
    "                x.append(x_val)\n",
    "                y.append(y_val)\n",
    "        if counter == 2:\n",
    "            d['lon'] = y_val\n",
    "            d['lat'] = x_val\n",
    "        else:\n",
    "            d['lon'] = y\n",
    "            d['lat'] = x\n",
    "        full_list.append(d)\n",
    "        print_count += 1\n",
    "        print('download starting...', '\\n')\n",
    "        print('status: %s%s %s out of %s' % ((float(print_count) / float(length)*100), '%', print_count, length))\n",
    "        \n",
    "        df = pandas.DataFrame(full_list)\n",
    "    try:\n",
    "        return df\n",
    "    except:\n",
    "        print('\\n','no data returned')\n",
    "\n",
    "\n",
    "\n"
   ]
  },
  {
   "cell_type": "code",
   "execution_count": 4,
   "metadata": {
    "collapsed": false
   },
   "outputs": [
    {
     "name": "stdout",
     "output_type": "stream",
     "text": [
      "1. enter continent: North America\n",
      "2. set earliest year?: (True or False) 10700\n",
      "Invalid input, please enter True or False\n",
      "2. set earliest year?: (True or False) True\n",
      "2.5 enter earliest year needed: 10700\n",
      "3. set latest year?: (True or False) True\n",
      "3.5 enter latest year needed: 8200\n",
      "4. getting data, please wait\n",
      "\n",
      " total number of studies = 292 \n",
      "\n"
     ]
    }
   ],
   "source": [
    "list_o = list_studies()"
   ]
  },
  {
   "cell_type": "code",
   "execution_count": 6,
   "metadata": {
    "collapsed": false
   },
   "outputs": [
    {
     "data": {
      "text/plain": [
       "b'8788'"
      ]
     },
     "execution_count": 6,
     "metadata": {},
     "output_type": "execute_result"
    }
   ],
   "source": [
    "list_o[0]"
   ]
  },
  {
   "cell_type": "code",
   "execution_count": null,
   "metadata": {
    "collapsed": true
   },
   "outputs": [],
   "source": []
  },
  {
   "cell_type": "code",
   "execution_count": null,
   "metadata": {
    "collapsed": true
   },
   "outputs": [],
   "source": [
    "# def save_loc(prompt, df):\n",
    "#     while True:\n",
    "#         save = get_bool('7. would you like to save data to csv? ')\n",
    "#         if save:\n",
    "#             save_location = input(prompt)\n",
    "#             try:\n",
    "#                 df.to_csv('%s.csv' % save_location, index=True)\n",
    "#                 return 'Successfully Saved!'\n",
    "#             except:\n",
    "#                 print('please enter valid save location')\n",
    "#         else:\n",
    "#             return"
   ]
  },
  {
   "cell_type": "code",
   "execution_count": null,
   "metadata": {
    "collapsed": true
   },
   "outputs": [],
   "source": [
    "# def main():\n",
    "#     df = make_df()\n",
    "#     save_loc('8. where to save: ', df)\n",
    "#     print((df.head()))\n",
    "#     print('\\n ', 'done!')\n",
    "#     return df\n",
    "\n",
    "# if __name__ == \"__main__\":\n",
    "#     main()\n"
   ]
  }
 ],
 "metadata": {
  "kernelspec": {
   "display_name": "Python 3",
   "language": "python",
   "name": "python3"
  },
  "language_info": {
   "codemirror_mode": {
    "name": "ipython",
    "version": 3
   },
   "file_extension": ".py",
   "mimetype": "text/x-python",
   "name": "python",
   "nbconvert_exporter": "python",
   "pygments_lexer": "ipython3",
   "version": "3.6.2"
  }
 },
 "nbformat": 4,
 "nbformat_minor": 2
}
